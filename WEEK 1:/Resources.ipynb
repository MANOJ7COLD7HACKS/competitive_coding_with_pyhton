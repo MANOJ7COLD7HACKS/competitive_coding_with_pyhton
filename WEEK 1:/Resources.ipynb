{
 "cells": [
  {
   "cell_type": "markdown",
   "metadata": {},
   "source": [
    "### Resources\n"
   ]
  },
  {
   "cell_type": "markdown",
   "metadata": {},
   "source": [
    "Use these resources to get more powerfull at bit manupulation \n",
    "\n",
    "As python is known for \n",
    "\n",
    "Hundreds of Python Libraries.Out of those 100 there is few for bit manupulation.\n",
    "\n",
    "1.[bitstring](https://github.com/scott-griffiths/bitstring)\n",
    "\n",
    "Documentation:[click](https://bitstring.readthedocs.io/en/latest/)\n",
    "\n",
    "2.[bitarray](https://pypi.org/project/bitarray/)\n",
    "\n",
    "\n"
   ]
  },
  {
   "cell_type": "markdown",
   "metadata": {},
   "source": [
    "Other area you could refer to :\n",
    "\n",
    "If you are in IOT or want to work on low level language can refer this [link](https://playground.arduino.cc/Code/BitMath/) \n",
    "\n",
    "\n",
    "contains the applications for bit manupulation \n",
    "\n",
    "[click]https://bits.stephan-brumme.com/\n",
    "\n",
    "[click]http://aggregate.org/MAGIC/"
   ]
  }
 ],
 "metadata": {
  "kernelspec": {
   "display_name": "Python 3",
   "language": "python",
   "name": "python3"
  },
  "language_info": {
   "codemirror_mode": {
    "name": "ipython",
    "version": 3
   },
   "file_extension": ".py",
   "mimetype": "text/x-python",
   "name": "python",
   "nbconvert_exporter": "python",
   "pygments_lexer": "ipython3",
   "version": "3.8.3"
  }
 },
 "nbformat": 4,
 "nbformat_minor": 4
}
