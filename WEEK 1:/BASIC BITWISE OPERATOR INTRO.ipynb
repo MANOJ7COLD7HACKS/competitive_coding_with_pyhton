{
 "cells": [
  {
   "cell_type": "markdown",
   "metadata": {},
   "source": [
    "# Basics of bit manipulation"
   ]
  },
  {
   "cell_type": "markdown",
   "metadata": {},
   "source": [
    "Computers do not understand words and numbers the way we do. All the data it receives are encoded at the lowest level to a series of zeros and ones. (0 and 1), and this is the only way it makes sense of any command it’s given. This series of 0 and 1 are known as **bits**."
   ]
  },
  {
   "cell_type": "markdown",
   "metadata": {},
   "source": [
    "Operations with bits are used in Data compression (data is compressed by converting it from one representation to another, to reduce the space) ,Exclusive-Or Encryption (an algorithm to encrypt the data for safety issues). In order to encode, decode or compress files we have to extract the data at bit level. Bitwise Operations are faster and closer to the system and sometimes optimize the program to a good level. "
   ]
  },
  {
   "cell_type": "markdown",
   "metadata": {},
   "source": [
    "We all known that 1 byte is comprises of 8 bits and int or char can be represented using bits in computers, which we call its binary form\n",
    "\n",
    "**1** and **0**\n",
    "\n",
    "\n",
    "i)$(1101)_{2}$ is a binary from of **13**\n",
    "     \n",
    "$(13)_{10}$=1X$2^{3}$+1X$2^{2}$+0X$2^{1}$+1X$2^{0}$\n",
    "\n",
    "\n",
    "\n",
    "    \n",
    " "
   ]
  },
  {
   "cell_type": "markdown",
   "metadata": {},
   "source": [
    "### Writing binary from int and vice versa in python "
   ]
  },
  {
   "cell_type": "code",
   "execution_count": 40,
   "metadata": {},
   "outputs": [
    {
     "name": "stdout",
     "output_type": "stream",
     "text": [
      "0b101011\n"
     ]
    }
   ],
   "source": [
    "a=43\n",
    "print(bin(43))#return a binary string "
   ]
  },
  {
   "cell_type": "code",
   "execution_count": 41,
   "metadata": {},
   "outputs": [
    {
     "name": "stdout",
     "output_type": "stream",
     "text": [
      "298\n",
      "141\n",
      "<class 'int'>\n",
      "<class 'str'>\n"
     ]
    }
   ],
   "source": [
    "b=\"100101010\"\n",
    "print(int(b,2))#takes string of binary as input\n",
    "k=\"0b10001101\"\n",
    "print(int(k,2))\n",
    "print(type(a))\n",
    "print(type(b))#this is  type function  returns object type "
   ]
  },
  {
   "cell_type": "markdown",
   "metadata": {},
   "source": [
    "### Bitwise operators in python "
   ]
  },
  {
   "cell_type": "markdown",
   "metadata": {},
   "source": [
    "#### &(and) operator"
   ]
  },
  {
   "cell_type": "code",
   "execution_count": 42,
   "metadata": {},
   "outputs": [
    {
     "name": "stdout",
     "output_type": "stream",
     "text": [
      "12\n",
      "-29\n",
      "13\n",
      "0\n",
      "21\n"
     ]
    }
   ],
   "source": [
    "# & \n",
    "print(13&12)  #return integer\n",
    "#print(bin(13)&bin(14))     #this will give you error as it work only on int type \n",
    "#print(12.34&23.56)            #same in this\n",
    "print(-13&-17)\n",
    "print(13&13)\n",
    "print(13&0)  #more about it later\n",
    "print(0b10101&0b11111)"
   ]
  },
  {
   "cell_type": "markdown",
   "metadata": {},
   "source": [
    "& operator \n",
    "\n",
    "1  &  1 = 1\n",
    "\n",
    "1  &  0 = 0\n",
    "\n",
    "0  &  1 = 0\n",
    "\n",
    "0  &  0 = 0\n"
   ]
  },
  {
   "cell_type": "markdown",
   "metadata": {},
   "source": [
    "#### |(or) operator"
   ]
  },
  {
   "cell_type": "code",
   "execution_count": 43,
   "metadata": {},
   "outputs": [
    {
     "name": "stdout",
     "output_type": "stream",
     "text": [
      "15\n",
      "14\n",
      "14\n"
     ]
    }
   ],
   "source": [
    "''' | if your using it first time it might take time for you to see were it is on your keyboard \n",
    "( just above your enter key )'''\n",
    "print(13|14) #return integer\n",
    "print(14|14)\n",
    "print(14|0)#takes integer\n"
   ]
  },
  {
   "cell_type": "markdown",
   "metadata": {},
   "source": [
    "| operator \n",
    "\n",
    "1  |  1 = 1\n",
    "\n",
    "1  |  0 = 1\n",
    "\n",
    "0  |  1 = 1\n",
    "\n",
    "0  |  0 = 0"
   ]
  },
  {
   "cell_type": "markdown",
   "metadata": {},
   "source": [
    "#### ^(xor) operator"
   ]
  },
  {
   "cell_type": "code",
   "execution_count": 44,
   "metadata": {
    "scrolled": true
   },
   "outputs": [
    {
     "name": "stdout",
     "output_type": "stream",
     "text": [
      "7\n",
      "26\n",
      "15\n"
     ]
    }
   ],
   "source": [
    "print(3^4)\n",
    "print(0b10101^0b1111)\n",
    "print(0b10000^0b11111)#can be used to find NOT (flipping the bits 0-->1 and 1-->0)\n"
   ]
  },
  {
   "cell_type": "markdown",
   "metadata": {},
   "source": [
    "^ operator \n",
    "\n",
    "1  ^  1 = 1\n",
    "\n",
    "1  ^  0 = 1\n",
    "\n",
    "0  ^  1 = 1\n",
    "\n",
    "0  ^  0 = 0\n"
   ]
  },
  {
   "cell_type": "markdown",
   "metadata": {},
   "source": [
    "#### ~(Python Ones’ complement of a number ‘A’ is equal to -(A+1)) operator"
   ]
  },
  {
   "cell_type": "code",
   "execution_count": 45,
   "metadata": {},
   "outputs": [
    {
     "name": "stdout",
     "output_type": "stream",
     "text": [
      "-1\n",
      "-13\n",
      "-0b1100\n",
      "-0b1\n"
     ]
    }
   ],
   "source": [
    "'''present just above the tab key '''\n",
    "print(~0)\n",
    "print(~12)\n",
    "print(bin(-12))\n",
    "print(bin(~0))"
   ]
  },
  {
   "cell_type": "markdown",
   "metadata": {},
   "source": [
    "#### <<(left shift) operator"
   ]
  },
  {
   "cell_type": "markdown",
   "metadata": {},
   "source": [
    "Left shift operator is a binary operator which shift the some number of bits, in the given bit pattern, to the left and append 0 at the end. Left shift is equivalent to multiplying the bit pattern with $2^{K}$ ( if we are shifting k bits )."
   ]
  },
  {
   "cell_type": "code",
   "execution_count": 46,
   "metadata": {},
   "outputs": [
    {
     "name": "stdout",
     "output_type": "stream",
     "text": [
      "4\n",
      "13194139533312\n",
      "2\n",
      "4\n"
     ]
    }
   ],
   "source": [
    "print(1<<2)\n",
    "print(3<<0b101010)\n",
    "print(1<<0b1)\n",
    "print(2<<0b1)"
   ]
  },
  {
   "cell_type": "markdown",
   "metadata": {},
   "source": [
    "1 << 1 = 2 = $2^{1}$\n",
    "\n",
    "1 << 2 = 4 = $2^{2}$ \n",
    "\n",
    "1 << 3 = 8 = $2^{3}$\n",
    "\n",
    "1 << 4 = 16 = $2^{4}$\n",
    "…\n",
    "1 << n = $2^{n}$"
   ]
  },
  {
   "cell_type": "markdown",
   "metadata": {},
   "source": [
    "#### >>(right shift) operator "
   ]
  },
  {
   "cell_type": "markdown",
   "metadata": {},
   "source": [
    "Right shift operator is a binary operator which shift the some number of bits, in the given bit pattern, to the right and append 1 at the end. Right shift is equivalent to dividing the bit pattern with 2*k ( if we are shifting k bits )."
   ]
  },
  {
   "cell_type": "code",
   "execution_count": 47,
   "metadata": {},
   "outputs": [
    {
     "name": "stdout",
     "output_type": "stream",
     "text": [
      "2\n",
      "5\n"
     ]
    }
   ],
   "source": [
    "print(4>>1)\n",
    "print(20>>2)"
   ]
  },
  {
   "cell_type": "markdown",
   "metadata": {},
   "source": [
    "4 >> 1 = 2\n",
    "\n",
    "6 >> 1 = 3\n",
    "\n",
    "5 >> 1 = 2\n",
    "\n",
    "16 >> 4 = 1"
   ]
  }
 ],
 "metadata": {
  "kernelspec": {
   "display_name": "Python 3",
   "language": "python",
   "name": "python3"
  },
  "language_info": {
   "codemirror_mode": {
    "name": "ipython",
    "version": 3
   },
   "file_extension": ".py",
   "mimetype": "text/x-python",
   "name": "python",
   "nbconvert_exporter": "python",
   "pygments_lexer": "ipython3",
   "version": "3.8.3"
  }
 },
 "nbformat": 4,
 "nbformat_minor": 4
}
