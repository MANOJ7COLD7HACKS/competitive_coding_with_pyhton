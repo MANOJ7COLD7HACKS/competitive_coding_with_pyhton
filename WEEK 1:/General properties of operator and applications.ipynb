{
 "cells": [
  {
   "cell_type": "markdown",
   "metadata": {},
   "source": [
    "# General properties of bitwise operators"
   ]
  },
  {
   "cell_type": "markdown",
   "metadata": {},
   "source": [
    "##### some amazing properties of operator specially XOR\n"
   ]
  },
  {
   "cell_type": "markdown",
   "metadata": {},
   "source": [
    "x ^ y = y ^ x\n",
    "\n",
    "x ^ 0 = x\n",
    "\n",
    "x ^ x = 0\n",
    "\n",
    "(x ^ y) ^ z = x ^ (y ^ z)"
   ]
  },
  {
   "cell_type": "markdown",
   "metadata": {},
   "source": [
    "#### Interpretation"
   ]
  },
  {
   "cell_type": "markdown",
   "metadata": {},
   "source": [
    " We can interpret the action of XOR in a number of different ways, and this helps to shed light on its properties.\n",
    " \n",
    " The most obvious way to interpret it is as its name suggests, ‘exclusive OR’: A ^ B is true if and only if precisely one of A and B is true. Another way to think of it is as identifying difference in a pair of bytes: A ^ B = ‘the bits where they differ’.**This interpretation makes it obvious that A ^ A = 0 (byte A does not differ from itself in any bit) and A ^ 0 = A (byte A differs from 0 precisely in the bit positions that equal 1) and is also useful when thinking about toggling and encryption later on.**\n",
    " \n",
    "Encryption example could be something like a  file:\n",
    "\n",
    "a=123454passcode:1223\n",
    "\n",
    "b=123454\n",
    "\n",
    "as a^b will give you back the passcode value to the another user who known the mask value like b.\n",
    "\n",
    "The last, and most powerful, interpretation of XOR is in terms of parity , i.e. whether something is odd or even. \n",
    "\n",
    "**Important interpretation**\n",
    "\n",
    "**For any n bits, A1 ^ A2 ^ … ^ A n = 1 if and only if the number of 1s is odd. \n",
    "\n",
    "eg:1011(11)\n",
    "\n",
    "\n",
    "**This can be proved quite easily by induction and use of associativity. It is the crucial observation that leads to many of the properties that follow, including error detection, data protection and adding.** \n"
   ]
  },
  {
   "cell_type": "markdown",
   "metadata": {},
   "source": [
    "### Error detection"
   ]
  },
  {
   "cell_type": "markdown",
   "metadata": {},
   "source": [
    "\n",
    "\n",
    "\n",
    "\n",
    "Now we will see the first application of XOR with respect to parity . There are many ways to defend against data corruption when sending digital information. One of the simplest is to use XOR to combine all the bits together into a single parity bit which gets appended to the end of the message. By comparing the received parity bit with the calculated one, we can reliably determine when a single bit has been corrupted (or indeed any odd number of bits). But if 2 bits have been corrupted (or indeed any even number of bits) this check will not help us.\n",
    "\n",
    "Checksums and cyclic redundancy checks (CRC) extend the concept to longer check values and reducing the likelihood of collisions and are widely used. It’s important to note that such checks are error-detecting but not error-correcting : we can tell that an error has occurred, but we don’t know where it occurred and so can’t recover the original message. Examples of error-correcting codes that also rely on XOR are BCH and Reed-Solomon  [Wikipedia](https://en.wikipedia.org/wiki/Finite_field_arithmetic). "
   ]
  },
  {
   "cell_type": "markdown",
   "metadata": {},
   "source": [
    "### RAID data protection"
   ]
  },
  {
   "cell_type": "markdown",
   "metadata": {},
   "source": [
    "The next application of XOR’s parity property is RAID (Redundant Arrays of Inexpensive Disks) . It was invented in the 1980s as a way to recover from hard drive corruption. If we have n hard drives, we can create an additional one which contains the XOR value of all the others:\n",
    "\n",
    "A* = A 1 ^ A 2 ^… ^ A n\n",
    "\n",
    "This introduces redundancy : if a failure occurs on one drive, say A1, we can restore it from the others since:\n",
    "\n",
    "A 2 ^ … ^ A n ^ A* \t\n",
    "\n",
    "= A 2 ^ … ^ A n ^ (A 1 ^ A 2 ^ … ^ A n ) \t(definition of A*)\n",
    "\n",
    "= A 1 ^ (A 2 ^ A 2 ) ^… ^ (A n ^ A n ) \t(commutative and associative: rearrange terms)\n",
    "\n",
    "= A 1 ^ 0 ^… ^ 0 \t(self-inverse)\n",
    "\n",
    "= A 1 \t(identity element)\n",
    "\n",
    "This is the same reasoning used to explain toggling earlier, but applied to n inputs rather than just 2.\n",
    "\n",
    "In the (highly unlikely) event that 2 drives fail simultaneously, the above would not be applicable so there would be no way to recover the data. "
   ]
  },
  {
   "cell_type": "markdown",
   "metadata": {},
   "source": [
    "#### Tricks with bits"
   ]
  },
  {
   "cell_type": "markdown",
   "metadata": {},
   "source": [
    "#### x ^ ( x & (x-1)) : **Returns the rightmost 1 in binary representation of x.**\n",
    "\n",
    "As explained above, (x & (x - 1)) will have all the bits equal to the x except for the rightmost 1 in x. So if we do bitwise XOR of x and (x & (x-1)), it will simply return the rightmost 1. \n",
    "\n",
    "Let’s see an example.\n",
    "\n",
    "x = 10 = $(1010)_2$ \n",
    "\n",
    "x & (x-1) = $(1010)_2$ & $(1001)_2$ = $(1000)_2$\n",
    "\n",
    "x ^ (x & (x-1)) = $(1010)_2$ ^ $(1000)_2$ = $(0010)_2$ "
   ]
  },
  {
   "cell_type": "markdown",
   "metadata": {},
   "source": [
    "#### x & (-x) : Returns the rightmost 1 in binary representation of x\n",
    "\n",
    "(-x) is the two’s complement of x. (-x) will be equal to one’s complement of x plus 1.\n",
    "Therefore (-x) will have all the bits flipped that are on the left of the rightmost 1 in x. So x & (-x) will return rightmost 1.\n",
    "\n",
    "x = 10 = $(1010)_2$\n",
    "\n",
    "(-x) = -10 = $(0110)_2$\n",
    "\n",
    "x & (-x) = $(1010)_2$ & $(0110)_2$ = $(0010)_2$ "
   ]
  },
  {
   "cell_type": "markdown",
   "metadata": {},
   "source": [
    "####  x | (1 << n) : Returns the number x with the nth bit set(set means it is 1).\n",
    "\n",
    "(1 << n) will return a number with only nth bit set. So if we OR it with x it will set the nth bit of x.\n",
    "\n",
    "x = 10 = $(1010)_2$ n = 2\n",
    "\n",
    "1 << n = $(0100)_2$\n",
    "\n",
    "x | (1 << n) = $(1010)_2$ | $(0100)_2$ = $(1110)_2$ "
   ]
  },
  {
   "cell_type": "markdown",
   "metadata": {},
   "source": [
    "###  Count the number of ones in the binary representation of the given number?"
   ]
  },
  {
   "cell_type": "markdown",
   "metadata": {},
   "source": [
    "The number which we have to check be A.\n",
    "\n",
    "The basic approach to evaluate the binary form of a number is to traverse on it and count the number of ones.\n",
    "But this approach takes $log_2N$ of time in every case. (where N is the size of binary representation of number)"
   ]
  },
  {
   "cell_type": "code",
   "execution_count": 10,
   "metadata": {},
   "outputs": [
    {
     "name": "stdout",
     "output_type": "stream",
     "text": [
      "0b11001\n",
      "0      24      0b11000\n",
      "1      16      0b10000\n",
      "2      0      0b0\n",
      "3\n",
      "Time to explore this bit manupulation by yourself \n",
      "I hope this help you \n",
      "This is my experience i got while getting good at this\n",
      "I will tell you how i approach questions and visualization of it and more stuff \n"
     ]
    }
   ],
   "source": [
    "A,count=25,0\n",
    "print(bin(A))\n",
    "while(A>0):\n",
    "    A=A&(A-1)\n",
    "    print(count,\"    \",A,\"    \",bin(A))\n",
    "    count+=1\n",
    "print(count)\n",
    "print(\"Time to explore this bit manupulation by yourself \")   \n",
    "print(\"I hope this help you \")\n",
    "print(\"This is my experience i got while getting good at this\")\n",
    "print(\"I will tell you how i approach questions and visualization of it and more stuff \")"
   ]
  }
 ],
 "metadata": {
  "kernelspec": {
   "display_name": "Python 3",
   "language": "python",
   "name": "python3"
  },
  "language_info": {
   "codemirror_mode": {
    "name": "ipython",
    "version": 3
   },
   "file_extension": ".py",
   "mimetype": "text/x-python",
   "name": "python",
   "nbconvert_exporter": "python",
   "pygments_lexer": "ipython3",
   "version": "3.8.3"
  }
 },
 "nbformat": 4,
 "nbformat_minor": 4
}
